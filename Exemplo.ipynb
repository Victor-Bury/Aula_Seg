{
  "nbformat": 4,
  "nbformat_minor": 0,
  "metadata": {
    "colab": {
      "provenance": [],
      "authorship_tag": "ABX9TyPke5zpwO6d8AsZ1iKpUbTj",
      "include_colab_link": true
    },
    "kernelspec": {
      "name": "python3",
      "display_name": "Python 3"
    },
    "language_info": {
      "name": "python"
    }
  },
  "cells": [
    {
      "cell_type": "markdown",
      "metadata": {
        "id": "view-in-github",
        "colab_type": "text"
      },
      "source": [
        "<a href=\"https://colab.research.google.com/github/Victor-Bury/Aula_Seg/blob/main/Exemplo.ipynb\" target=\"_parent\"><img src=\"https://colab.research.google.com/assets/colab-badge.svg\" alt=\"Open In Colab\"/></a>"
      ]
    },
    {
      "cell_type": "markdown",
      "source": [
        "Exercício 1 – Exploração de Dados com Pandas\n",
        "\n",
        "\n",
        "\n",
        "\n",
        "\n"
      ],
      "metadata": {
        "id": "y3WnB-UzhXUa"
      }
    },
    {
      "cell_type": "code",
      "execution_count": null,
      "metadata": {
        "colab": {
          "base_uri": "https://localhost:8080/"
        },
        "id": "fzftUNgtezCQ",
        "outputId": "7b6921ba-1847-45b3-bd9c-450443595c89"
      },
      "outputs": [
        {
          "output_type": "stream",
          "name": "stdout",
          "text": [
            "   PassengerId  Survived  Pclass  \\\n",
            "0            1         0       3   \n",
            "1            2         1       1   \n",
            "2            3         1       3   \n",
            "3            4         1       1   \n",
            "4            5         0       3   \n",
            "\n",
            "                                                Name     Sex   Age  SibSp  \\\n",
            "0                            Braund, Mr. Owen Harris    male  22.0      1   \n",
            "1  Cumings, Mrs. John Bradley (Florence Briggs Th...  female  38.0      1   \n",
            "2                             Heikkinen, Miss. Laina  female  26.0      0   \n",
            "3       Futrelle, Mrs. Jacques Heath (Lily May Peel)  female  35.0      1   \n",
            "4                           Allen, Mr. William Henry    male  35.0      0   \n",
            "\n",
            "   Parch            Ticket     Fare Cabin Embarked  \n",
            "0      0         A/5 21171   7.2500   NaN        S  \n",
            "1      0          PC 17599  71.2833   C85        C  \n",
            "2      0  STON/O2. 3101282   7.9250   NaN        S  \n",
            "3      0            113803  53.1000  C123        S  \n",
            "4      0            373450   8.0500   NaN        S  \n",
            "(891, 12)\n",
            "   PassengerId  Survived  Pclass  \\\n",
            "0            1         0       3   \n",
            "1            2         1       1   \n",
            "2            3         1       3   \n",
            "3            4         1       1   \n",
            "4            5         0       3   \n",
            "\n",
            "                                                Name     Sex   Age  SibSp  \\\n",
            "0                            Braund, Mr. Owen Harris    male  22.0      1   \n",
            "1  Cumings, Mrs. John Bradley (Florence Briggs Th...  female  38.0      1   \n",
            "2                             Heikkinen, Miss. Laina  female  26.0      0   \n",
            "3       Futrelle, Mrs. Jacques Heath (Lily May Peel)  female  35.0      1   \n",
            "4                           Allen, Mr. William Henry    male  35.0      0   \n",
            "\n",
            "   Parch            Ticket     Fare Cabin Embarked  \n",
            "0      0         A/5 21171   7.2500   NaN        S  \n",
            "1      0          PC 17599  71.2833   C85        C  \n",
            "2      0  STON/O2. 3101282   7.9250   NaN        S  \n",
            "3      0            113803  53.1000  C123        S  \n",
            "4      0            373450   8.0500   NaN        S  \n",
            "     PassengerId  Survived  Pclass                                      Name  \\\n",
            "886          887         0       2                     Montvila, Rev. Juozas   \n",
            "887          888         1       1              Graham, Miss. Margaret Edith   \n",
            "888          889         0       3  Johnston, Miss. Catherine Helen \"Carrie\"   \n",
            "889          890         1       1                     Behr, Mr. Karl Howell   \n",
            "890          891         0       3                       Dooley, Mr. Patrick   \n",
            "\n",
            "        Sex   Age  SibSp  Parch      Ticket   Fare Cabin Embarked  \n",
            "886    male  27.0      0      0      211536  13.00   NaN        S  \n",
            "887  female  19.0      0      0      112053  30.00   B42        S  \n",
            "888  female   NaN      1      2  W./C. 6607  23.45   NaN        S  \n",
            "889    male  26.0      0      0      111369  30.00  C148        C  \n",
            "890    male  32.0      0      0      370376   7.75   NaN        Q  \n",
            "Formato: (891, 12)\n",
            "PassengerId      0\n",
            "Survived         0\n",
            "Pclass           0\n",
            "Name             0\n",
            "Sex              0\n",
            "Age            177\n",
            "SibSp            0\n",
            "Parch            0\n",
            "Ticket           0\n",
            "Fare             0\n",
            "Cabin          687\n",
            "Embarked         2\n",
            "dtype: int64\n",
            "       PassengerId    Survived      Pclass         Age       SibSp  \\\n",
            "count   891.000000  891.000000  891.000000  714.000000  891.000000   \n",
            "mean    446.000000    0.383838    2.308642   29.699118    0.523008   \n",
            "std     257.353842    0.486592    0.836071   14.526497    1.102743   \n",
            "min       1.000000    0.000000    1.000000    0.420000    0.000000   \n",
            "25%     223.500000    0.000000    2.000000   20.125000    0.000000   \n",
            "50%     446.000000    0.000000    3.000000   28.000000    0.000000   \n",
            "75%     668.500000    1.000000    3.000000   38.000000    1.000000   \n",
            "max     891.000000    1.000000    3.000000   80.000000    8.000000   \n",
            "\n",
            "            Parch        Fare  \n",
            "count  891.000000  891.000000  \n",
            "mean     0.381594   32.204208  \n",
            "std      0.806057   49.693429  \n",
            "min      0.000000    0.000000  \n",
            "25%      0.000000    7.910400  \n",
            "50%      0.000000   14.454200  \n",
            "75%      0.000000   31.000000  \n",
            "max      6.000000  512.329200  \n"
          ]
        }
      ],
      "source": [
        "import pandas as pd\n",
        "\n",
        "# 1. Carregar os dados a partir da URL\n",
        "url = \"https://raw.githubusercontent.com/datasciencedojo/datasets/master/titanic.csv\"\n",
        "dados = pd.read_csv(url)\n",
        "\n",
        "# 2. Mostrar as 5 primeiras e 5 últimas linhas\n",
        "print(dados.head())\n",
        "print(dados.tail())\n",
        "\n",
        "# 3. Mostrar número de linhas e colunas\n",
        "print(\"Formato:\", dados.shape)\n",
        "\n",
        "# 4. Verificar valores nulos\n",
        "print(dados.isnull().sum())\n",
        "\n",
        "# 5. Estatísticas descritivas\n",
        "print(dados.describe())\n"
      ]
    },
    {
      "cell_type": "markdown",
      "source": [
        "Exercício 2 – Seleção e Filtragem"
      ],
      "metadata": {
        "id": "JNmxdTFkiALu"
      }
    },
    {
      "cell_type": "code",
      "source": [
        "# 1. Apenas passageiros do sexo feminino\n",
        "mulheres = dados[dados[\"Sex\"] == \"female\"]\n",
        "\n",
        "# 2. Passageiros com idade maior que 30\n",
        "maiores_30 = dados[dados[\"Age\"] > 30]\n",
        "\n",
        "# 3. Criar coluna \"idade_grupo\"\n",
        "def classificar_idade(idade):\n",
        "    if pd.isnull(idade):\n",
        "        return \"desconhecido\"\n",
        "    elif idade < 12:\n",
        "        return \"criança\"\n",
        "    elif idade < 60:\n",
        "        return \"adulto\"\n",
        "    else:\n",
        "        return \"idoso\"\n",
        "\n",
        "dados[\"idade_grupo\"] = dados[\"Age\"].apply(classificar_idade)\n",
        "\n",
        "# 4. Média de idade por sexo\n",
        "print(dados.groupby(\"Sex\")[\"Age\"].mean())\n"
      ],
      "metadata": {
        "colab": {
          "base_uri": "https://localhost:8080/"
        },
        "id": "rMxA3aKPiIaU",
        "outputId": "1341c21e-c54a-4005-e527-74ae3381031c"
      },
      "execution_count": null,
      "outputs": [
        {
          "output_type": "stream",
          "name": "stdout",
          "text": [
            "Sex\n",
            "female    27.915709\n",
            "male      30.726645\n",
            "Name: Age, dtype: float64\n"
          ]
        }
      ]
    },
    {
      "cell_type": "markdown",
      "source": [
        "Exercício 3 – Visualizações"
      ],
      "metadata": {
        "id": "duuaoSDDY3l2"
      }
    },
    {
      "cell_type": "code",
      "source": [
        "import seaborn as sns\n",
        "import matplotlib.pyplot as plt\n",
        "\n",
        "# 1. Gráfico de barras – sobreviventes por sexo\n",
        "sns.countplot(data=dados, x=\"Sex\", hue=\"Survived\")\n",
        "plt.title(\"Sobreviventes por Sexo\")\n",
        "plt.show()\n",
        "\n",
        "# 2. Histograma das idades\n",
        "sns.histplot(dados[\"Age\"].dropna(), bins=20, kde=True)\n",
        "plt.title(\"Distribuição das Idades\")\n",
        "plt.show()\n",
        "\n",
        "# 3. Dispersão Idade x Tarifa\n",
        "sns.scatterplot(data=dados, x=\"Age\", y=\"Fare\", hue=\"Sex\")\n",
        "plt.title(\"Idade x Tarifa por Sexo\")\n",
        "plt.show()\n",
        "\n",
        "# 4. Heatmap da correlação\n",
        "sns.heatmap(dados.corr(numeric_only=True), annot=True, cmap=\"coolwarm\")\n",
        "plt.title(\"Matriz de Correlação\")\n",
        "plt.show()\n"
      ],
      "metadata": {
        "id": "rl1WNj7JY5UF"
      },
      "execution_count": null,
      "outputs": []
    },
    {
      "cell_type": "markdown",
      "source": [
        "Exercício 4 – Estatística Descritiva"
      ],
      "metadata": {
        "id": "ZPUSiIHQY7cu"
      }
    },
    {
      "cell_type": "code",
      "source": [
        "# 1. Média, mediana e desvio padrão da tarifa\n",
        "print(\"Média:\", dados[\"Fare\"].mean())\n",
        "print(\"Mediana:\", dados[\"Fare\"].median())\n",
        "print(\"Desvio Padrão:\", dados[\"Fare\"].std())\n",
        "\n",
        "# 2. Diferença na média da tarifa entre homens e mulheres\n",
        "print(dados.groupby(\"Sex\")[\"Fare\"].mean())\n",
        "\n",
        "# 3. Moda das idades\n",
        "print(\"Moda das Idades:\", dados[\"Age\"].mode()[0])\n"
      ],
      "metadata": {
        "id": "VzPcuLCAY81f"
      },
      "execution_count": null,
      "outputs": []
    },
    {
      "cell_type": "markdown",
      "source": [
        "Exercício 5 – Mini-Projeto\n"
      ],
      "metadata": {
        "id": "fMvFpIF9ZASF"
      }
    },
    {
      "cell_type": "code",
      "source": [
        "# 1. Tratamento de valores nulos\n",
        "dados[\"Age\"].fillna(dados[\"Age\"].median(), inplace=True)\n",
        "dados[\"Embarked\"].fillna(dados[\"Embarked\"].mode()[0], inplace=True)\n",
        "\n",
        "# 2. Visualizações\n",
        "sns.barplot(x=\"Sex\", y=\"Survived\", data=dados)\n",
        "plt.title(\"Taxa de Sobrevivência por Sexo\")\n",
        "plt.show()\n",
        "\n",
        "sns.barplot(x=\"idade_grupo\", y=\"Survived\", data=dados)\n",
        "plt.title(\"Taxa de Sobrevivência por Grupo de Idade\")\n",
        "plt.show()\n",
        "\n",
        "sns.barplot(x=\"Pclass\", y=\"Survived\", data=dados)\n",
        "plt.title(\"Taxa de Sobrevivência por Classe\")\n",
        "plt.show()\n"
      ],
      "metadata": {
        "id": "l3n3RQoUZD5g"
      },
      "execution_count": null,
      "outputs": []
    },
    {
      "cell_type": "markdown",
      "source": [
        "Exercício Extra – Mercado Financeiro (PETR4)"
      ],
      "metadata": {
        "id": "ormh4MkUZNbY"
      }
    },
    {
      "cell_type": "code",
      "source": [
        "import yfinance as yf\n",
        "import matplotlib.pyplot as plt\n",
        "\n",
        "acao = \"PETR4.SA\"\n",
        "historico = yf.download(acao, period=\"90d\")\n",
        "\n",
        "print(historico.head())\n",
        "\n",
        "# Gráfico de preços de fechamento\n",
        "historico[\"Close\"].plot(title=f\"Preço de Fechamento - {acao}\")\n",
        "plt.xlabel(\"Data\")\n",
        "plt.ylabel(\"Preço (R$)\")\n",
        "plt.grid(True)\n",
        "plt.show()\n",
        "\n",
        "# Média do preço de fechamento\n",
        "media = historico[\"Close\"].mean()\n",
        "print(f\"Média do preço de fechamento nos últimos 90 dias: R$ {media:.2f}\")\n",
        "\n"
      ],
      "metadata": {
        "colab": {
          "base_uri": "https://localhost:8080/",
          "height": 780
        },
        "id": "TR103eFJZPFQ",
        "outputId": "bd298a18-0924-44cb-c64d-11983600861d"
      },
      "execution_count": null,
      "outputs": [
        {
          "output_type": "stream",
          "name": "stderr",
          "text": [
            "/tmp/ipython-input-3776125874.py:5: FutureWarning: YF.download() has changed argument auto_adjust default to True\n",
            "  historico = yf.download(acao, period=\"90d\")\n",
            "[*********************100%***********************]  1 of 1 completed\n",
            "ERROR:yfinance:\n",
            "1 Failed download:\n",
            "ERROR:yfinance:['PETR4.SA']: Timeout('Failed to perform, curl: (28) Connection timed out after 10000 milliseconds. See https://curl.se/libcurl/c/libcurl-errors.html first for more details.')\n"
          ]
        },
        {
          "output_type": "stream",
          "name": "stdout",
          "text": [
            "Empty DataFrame\n",
            "Columns: [(Adj Close, PETR4.SA), (Close, PETR4.SA), (High, PETR4.SA), (Low, PETR4.SA), (Open, PETR4.SA), (Volume, PETR4.SA)]\n",
            "Index: []\n"
          ]
        },
        {
          "output_type": "display_data",
          "data": {
            "text/plain": [
              "<Figure size 640x480 with 1 Axes>"
            ],
            "image/png": "[encoded data removed]"
          },
          "metadata": {}
        },
        {
          "output_type": "error",
          "ename": "TypeError",
          "evalue": "unsupported format string passed to Series.__format__",
          "traceback": [
            "\u001b[0;31m---------------------------------------------------------------------------\u001b[0m",
            "\u001b[0;31mTypeError\u001b[0m                                 Traceback (most recent call last)",
            "\u001b[0;32m/tmp/ipython-input-3776125874.py\u001b[0m in \u001b[0;36m<cell line: 0>\u001b[0;34m()\u001b[0m\n\u001b[1;32m     16\u001b[0m \u001b[0;31m# Média do preço de fechamento\u001b[0m\u001b[0;34m\u001b[0m\u001b[0;34m\u001b[0m\u001b[0m\n\u001b[1;32m     17\u001b[0m \u001b[0mmedia\u001b[0m \u001b[0;34m=\u001b[0m \u001b[0mhistorico\u001b[0m\u001b[0;34m[\u001b[0m\u001b[0;34m\"Close\"\u001b[0m\u001b[0;34m]\u001b[0m\u001b[0;34m.\u001b[0m\u001b[0mmean\u001b[0m\u001b[0;34m(\u001b[0m\u001b[0;34m)\u001b[0m\u001b[0;34m\u001b[0m\u001b[0;34m\u001b[0m\u001b[0m\n\u001b[0;32m---> 18\u001b[0;31m \u001b[0mprint\u001b[0m\u001b[0;34m(\u001b[0m\u001b[0;34mf\"Média do preço de fechamento nos últimos 90 dias: R$ {media:.2f}\"\u001b[0m\u001b[0;34m)\u001b[0m\u001b[0;34m\u001b[0m\u001b[0;34m\u001b[0m\u001b[0m\n\u001b[0m\u001b[1;32m     19\u001b[0m \u001b[0;34m\u001b[0m\u001b[0m\n",
            "\u001b[0;31mTypeError\u001b[0m: unsupported format string passed to Series.__format__"
          ]
        }
      ]
    }
  ]
}